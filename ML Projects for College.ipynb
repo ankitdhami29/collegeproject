
{
 "cells": [
  {
   "cell_type": "markdown",
   "id": "c06d19a3",
   "metadata": {},
   "source": [
    "## A--"
   ]
  },
  {
   "cell_type": "code",
   "execution_count": null,
   "id": "e3508c45",
   "metadata": {},
   "outputs": [],
   "source": [
    "pip install pyaudio"
   ]
  },
  {
   "cell_type": "code",
   "execution_count": null,
   "id": "9c15bb3b",
   "metadata": {},
   "outputs": [],
   "source": [
    "#pip install SpeechRecognition"
   ]
  },
  {
   "cell_type": "code",
   "execution_count": null,
   "id": "e87c31dc",
   "metadata": {},
   "outputs": [],
   "source": [
    "import speech_recognition as sr\n",
    "import pyaudio \n",
    "\n",
    "\n",
    "r = sr.Recognizer()\n",
    "\n",
    "\n",
    "def recognize_speech():\n",
    "    with sr.Microphone() as source:\n",
    "        print(\"Listening...\")\n",
    "        audio = r.listen(source)\n",
    "\n",
    "    try:\n",
    "        text = r.recognize_google(audio)\n",
    "        print(\"You said:\", text)\n",
    "    except sr.UnknownValueError:\n",
    "        print(\"Sorry, I could not understand.\")\n",
    "    except sr.RequestError as e:\n",
    "        print(\"Sorry, I am unable to process your request. Please try again later.\")\n",
    "\n",
    "# Conversation loop\n",
    "while True:\n",
    "    recognize_speech(end)\n"
   ]
  },
  {
   "cell_type": "code",
   "execution_count": null,
   "id": "f5621a6b",
   "metadata": {},
   "outputs": [],
   "source": [
    "import speech_recognition as sr\n",
    "\n",
    "def listen_for_commands():\n",
    "    r = sr.Recognizer()\n",
    "    with sr.Microphone() as source:\n",
    "        print(\"Listening for commands...\")\n",
    "        audio = r.listen(source)\n",
    "        \n",
    "    try:\n",
    "        command = r.recognize_google(audio)\n",
    "        print(\"You said:\", command)\n",
    "        if command.lower() == \"stop\":\n",
    "            print(\"Stopping...\")\n",
    "            return False\n",
    "        else:\n",
    "            create_note(command)\n",
    "            return True\n",
    "    except sr.UnknownValueError:\n",
    "        print(\"Sorry, I didn't catch that. Please try again.\")\n",
    "        return True\n",
    "    except sr.RequestError:\n",
    "        print(\"Sorry, I'm having trouble accessing the speech recognition service. Please try again later.\")\n",
    "        return True\n",
    "\n",
    "def create_note(text):\n",
    "    # Code to create a note with the given text\n",
    "    pass\n",
    "\n",
    "# Main loop\n",
    "while True:\n",
    "    if not listen_for_commands():\n",
    "        break\n"
   ]
  },
  {
   "cell_type": "code",
   "execution_count": null,
   "id": "09775e29",
   "metadata": {},
   "outputs": [],
   "source": []
  },
  {
   "cell_type": "code",
   "execution_count": null,
   "id": "7e2270d6",
   "metadata": {},
   "outputs": [],
   "source": [
    "import requests\n",
    "\n",
    "def fetch_user_repositories(username):\n",
    "    url = f\"https://api.github.com/users/{username}/repos\"\n",
    "    try:\n",
    "        response = requests.get(url)\n",
    "        response.raise_for_status()  # Raise an exception for HTTP errors\n",
    "        repositories = response.json()\n",
    "        return repositories\n",
    "    except requests.exceptions.RequestException as e:\n",
    "        print(\"Error fetching repositories:\", e)\n",
    "        return None\n",
    "\n",
    "def main():\n",
    "    username = input(\"Enter GitHub username: \")\n",
    "\n",
    "    repositories = fetch_user_repositories(username)\n",
    "\n",
    "    if repositories:\n",
    "        print(f\"Repositories for user {username}:\")\n",
    "        for repo in repositories:\n",
    "            print(\"- \", repo[\"name\"])\n",
    "    else:\n",
    "        print(\"Failed to fetch repositories.\")\n",
    "\n",
    "if __name__ == \"__main__\":\n",
    "    main()\n"
   ]
  },
  {
   "cell_type": "code",
   "execution_count": null,
   "id": "9b5b2dc4",
   "metadata": {},
   "outputs": [],
   "source": []
  },
  {
   "cell_type": "code",
   "execution_count": null,
   "id": "8a7ba042",
   "metadata": {},
   "outputs": [],
   "source": [
    "import requests\n",
    "\n",
    "def fetch_upcoming_launches():\n",
    "    url = \"https://api.spacexdata.com/v4/launches/upcoming\"\n",
    "    try:\n",
    "        response = requests.get(url)\n",
    "        response.raise_for_status()  # Raise an exception for HTTP errors\n",
    "        launches = response.json()\n",
    "        return launches\n",
    "    except requests.exceptions.RequestException as e:\n",
    "        print(\"Error fetching upcoming launches:\", e)\n",
    "        return None\n",
    "\n",
    "def main():\n",
    "    launches = fetch_upcoming_launches()\n",
    "\n",
    "    if launches:\n",
    "        print(\"Upcoming Rocket Launches:\")\n",
    "        for launch in launches:\n",
    "            print(\"Mission Name:\", launch[\"name\"])\n",
    "            print(\"Launch Date:\", launch[\"date_utc\"])\n",
    "            print(\"Rocket Name:\", launch[\"rocket\"])\n",
    "            print(\"Launch Site:\", launch[\"launchpad\"])\n",
    "            print()\n",
    "    else:\n",
    "        print(\"Failed to fetch upcoming launches.\")\n",
    "\n",
    "if __name__ == \"__main__\":\n",
    "    main()\n"
   ]
  },
  {
   "cell_type": "code",
   "execution_count": null,
   "id": "cb5fc91d",
   "metadata": {},
   "outputs": [],
   "source": []
  },
  {
   "cell_type": "code",
   "execution_count": null,
   "id": "d1ec30e0",
   "metadata": {},
   "outputs": [],
   "source": [
    "import requests\n",
    "\n",
    "def fetch_random_joke():\n",
    "    url = \"https://api.chucknorris.io/jokes/random\"\n",
    "    try:\n",
    "        response = requests.get(url)\n",
    "        response.raise_for_status()  \n",
    "        joke_data = response.json()\n",
    "        return joke_data[\"value\"]\n",
    "    except requests.exceptions.RequestException as e:\n",
    "        print(\"Error fetching joke:\", e)\n",
    "        return None\n",
    "\n",
    "def main():\n",
    "    joke = fetch_random_joke()\n",
    "\n",
    "    if joke:\n",
    "        print(\"Here's a Chuck Norris joke for you:\")\n",
    "        print(joke)\n",
    "    else:\n",
    "        print(\"Failed to fetch joke.\")\n",
    "\n",
    "if __name__ == \"__main__\":\n",
    "    main()\n"
   ]
  },
  {
   "cell_type": "code",
   "execution_count": null,
   "id": "5afa3039",
   "metadata": {},
   "outputs": [],
   "source": []
  },
  {
   "cell_type": "code",
   "execution_count": null,
   "id": "57a0cb5e",
   "metadata": {},
   "outputs": [],
   "source": [
    "import requests\n",
    "\n",
    "def fetch_apod(api_key):\n",
    "    url = f\"https://api.nasa.gov/planetary/apod?api_key={api_key}\"\n",
    "    try:\n",
    "        response = requests.get(url)\n",
    "        response.raise_for_status()  # Raise an exception for HTTP errors\n",
    "        apod_data = response.json()\n",
    "        return apod_data\n",
    "    except requests.exceptions.RequestException as e:\n",
    "        print(\"Error fetching APOD:\", e)\n",
    "        return None\n",
    "\n",
    "def main():\n",
    "    api_key = input(\"Enter your NASA API key: \")\n",
    "    apod = fetch_apod(api_key)\n",
    "\n",
    "    if apod:\n",
    "        print(\"Astronomy Picture of the Day (APOD):\")\n",
    "        print(\"Title:\", apod[\"title\"])\n",
    "        print(\"Date:\", apod[\"date\"])\n",
    "        print(\"Explanation:\", apod[\"explanation\"])\n",
    "        print(\"URL:\", apod[\"url\"])\n",
    "    else:\n",
    "        print(\"Failed to fetch Astronomy Picture of the Day.\")\n",
    "\n",
    "if __name__ == \"__main__\":\n",
    "    main()\n"
   ]
  },
  {
   "cell_type": "code",
   "execution_count": null,
   "id": "879cced0",
   "metadata": {},
   "outputs": [],
   "source": []
  },
  {
   "cell_type": "markdown",
   "id": "9ae127bd",
   "metadata": {},
   "source": [
    "## webscrapping"
   ]
  },
  {
   "cell_type": "code",
   "execution_count": null,
   "id": "ae94159c",
   "metadata": {},
   "outputs": [],
   "source": []
  },
  {
   "cell_type": "code",
   "execution_count": null,
   "id": "a1698f44",
   "metadata": {},
   "outputs": [],
   "source": [
    "#!pip install url\n"
   ]
  },
  {
   "cell_type": "code",
   "execution_count": null,
   "id": "d4aff74e",
   "metadata": {},
   "outputs": [],
   "source": [
    "import requests\n",
    "from bs4 import BeautifulSoup\n",
    "import pandas as pd\n",
    " \n",
    "url = 'https://stackoverflow.com/questions/53779531/excel-create-item-list-from-table-values'\n",
    " \n",
    "response = requests.get(url)\n",
    " \n",
    "soup = BeautifulSoup(response.text, 'html.parser') \n",
    "table = soup.find('table')\n",
    "\n",
    " \n",
    "headers = []\n",
    "for th in table.find_all('th'):\n",
    "    headers.append(th.text.strip())\n",
    "\n",
    "data = []\n",
    "for tr in table.find_all('tr'):\n",
    "    row = []\n",
    "    for td in tr.find_all('td'):\n",
    "        row.append(td.text.strip())\n",
    "    if row:\n",
    "        data.append(row)\n",
    "\n",
    "df = pd.DataFrame(data, columns=headers)\n",
    "\n",
    "# Save the Df to CSV \n",
    "df.to_csv('C:\\\\Users\\\\Admin\\\\OneDrive\\\\Documents\\\\ousource\\\\data.csv', index=False)\n",
    "\n",
    "print(\"Table data saved to 'table_data.csv' successfully.\")"
   ]
  },
  {
   "cell_type": "code",
   "execution_count": null,
   "id": "6e63b978",
   "metadata": {},
   "outputs": [],
   "source": []
  }
 ],
 "metadata": {
  "kernelspec": {
   "display_name": "Python 3 (ipykernel)",
   "language": "python",
   "name": "python3"
  },
  "language_info": {
   "codemirror_mode": {
    "name": "ipython",
    "version": 3
   },
   "file_extension": ".py",
   "mimetype": "text/x-python",
   "name": "python",
   "nbconvert_exporter": "python",
   "pygments_lexer": "ipython3",
   "version": "3.11.5"
  }
 },
 "nbformat": 4,
 "nbformat_minor": 5
}
